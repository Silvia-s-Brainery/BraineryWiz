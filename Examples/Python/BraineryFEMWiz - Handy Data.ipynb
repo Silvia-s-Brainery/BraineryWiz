{
 "cells": [
  {
   "cell_type": "markdown",
   "id": "c411878e",
   "metadata": {},
   "source": [
    "# Brainery FEMWiz\n",
    "\n",
    "A package to Visualuze Finite element Models"
   ]
  },
  {
   "cell_type": "code",
   "execution_count": null,
   "id": "4f0ca7ad",
   "metadata": {},
   "outputs": [],
   "source": [
    "!pip show BraineryWiz\n",
    "import BraineryWiz as bz"
   ]
  },
  {
   "cell_type": "markdown",
   "id": "12976d99",
   "metadata": {},
   "source": [
    "## Handy Data"
   ]
  },
  {
   "cell_type": "markdown",
   "id": "1e9a6974",
   "metadata": {},
   "source": [
    "#### Define initial data and add them to the package"
   ]
  },
  {
   "cell_type": "code",
   "execution_count": null,
   "id": "e7462173",
   "metadata": {},
   "outputs": [],
   "source": [
    "import random as rnd\n",
    "\n",
    "#Define Data\n",
    "nodeCoordDict={1:[-1,0,0], 2:[0,0,1], 3:[1,0,1], 4:[1,0,0], 5:[-1,2,0], 6:[1,2,0]}\n",
    "eleNodesDict={1:[1,2], 2:[2,3] , 3:[3,4], 4:[1,2,3,4], 5:[4,6,5,2,1]}\n",
    "\n",
    "#Define initial Data for package\n",
    "bz.BaseData(nodeCoordDict, eleNodesDict)\n"
   ]
  },
  {
   "cell_type": "markdown",
   "id": "5178b34b",
   "metadata": {},
   "source": [
    "### PlotModel command to plot the defined model (plotmode=1 is proper for my JupyterNoteBook)"
   ]
  },
  {
   "cell_type": "code",
   "execution_count": null,
   "id": "5146a408",
   "metadata": {},
   "outputs": [],
   "source": [
    "bz.PlotModel(plotmode=1,onhover_message=True,show_nodes_tag=True,plot_fibers=True,show_elemens_tag=False,\n",
    "             quivers_size=None,  plot_legends=True,vertical_axis=3)"
   ]
  },
  {
   "cell_type": "markdown",
   "id": "e1426cac",
   "metadata": {},
   "source": [
    "#### Define nodes displacement data and plot the deformation shape"
   ]
  },
  {
   "cell_type": "code",
   "execution_count": null,
   "id": "b6a577cb",
   "metadata": {},
   "outputs": [],
   "source": [
    "import random as rnd\n",
    "\n",
    "bz.DispData({node:[rnd.uniform(0,1),rnd.uniform(0,1),rnd.uniform(0,1)] for node in nodeTagsList})\n",
    "\n",
    "\n",
    "bz.PlotDefo(plotmode=1,scale_factor=2,onhover_message=True,show_nodes_tag=True,  plot_legends=True,vertical_axis=2)"
   ]
  },
  {
   "cell_type": "markdown",
   "id": "8338f79d",
   "metadata": {},
   "source": [
    "#### Use RealTime capbility to create Canvas and plot it in each intended moment (Just for Jupyter NoteBook)"
   ]
  },
  {
   "cell_type": "code",
   "execution_count": null,
   "id": "3d4b1b73",
   "metadata": {},
   "outputs": [],
   "source": [
    "bz.RealTimeObj(plotmode=7,onhover_message=True, plot_legends=True,vertical_axis=2);\n"
   ]
  },
  {
   "cell_type": "code",
   "execution_count": null,
   "id": "3a7b353b",
   "metadata": {},
   "outputs": [],
   "source": [
    "for i in range(10):\n",
    "\n",
    "    #Defining data for FEM Viewer\n",
    "    bz.DispData({node:[rnd.uniform(0,.05),rnd.uniform(0,.05),rnd.uniform(0,.05)] for node in nodeTagsList})\n",
    "    \n",
    "    #Update Data\n",
    "    bz.RealTimeUpdate(scale_factor=10, title=f'BraineryWiz Deformation step {i}')"
   ]
  },
  {
   "cell_type": "markdown",
   "id": "77324824",
   "metadata": {},
   "source": [
    "#### Use Record command to record deformations to use them for creating animations or gif files"
   ]
  },
  {
   "cell_type": "code",
   "execution_count": null,
   "id": "f32c71f7",
   "metadata": {},
   "outputs": [],
   "source": [
    "bz.RecorderReset()\n",
    "for i in range(300):\n",
    "    \n",
    "    \n",
    "    #Defining data for FEM Viewer\n",
    "    bz.DispData({node:[rnd.uniform(0,.05),rnd.uniform(0,.05),rnd.uniform(0,.05)] for node in nodeTagsList})\n",
    "    \n",
    "    bz.Record()"
   ]
  },
  {
   "cell_type": "markdown",
   "id": "7c7b397b",
   "metadata": {},
   "source": [
    "#### create animation from recorded deformations"
   ]
  },
  {
   "cell_type": "code",
   "execution_count": null,
   "id": "efd48698",
   "metadata": {},
   "outputs": [],
   "source": [
    "bz.PlotAnime(plotmode=1,dt=0.01,scale_factor=10,  plot_legends=True,vertical_axis=2)"
   ]
  },
  {
   "cell_type": "markdown",
   "id": "6fea644e",
   "metadata": {},
   "source": [
    "#### record deformations to create a gif animation"
   ]
  },
  {
   "cell_type": "code",
   "execution_count": null,
   "id": "e53ac8c1",
   "metadata": {},
   "outputs": [],
   "source": [
    "bz.RecorderReset()\n",
    "for i in range(10):\n",
    "    \n",
    "    #Defining data for FEM Viewer\n",
    "    bz.DispData({node:[rnd.uniform(0,.05),rnd.uniform(0,.05),rnd.uniform(0,.05)] for node in nodeTagsList})\n",
    "    \n",
    "    bz.Record()"
   ]
  },
  {
   "cell_type": "markdown",
   "id": "9778c9fa",
   "metadata": {},
   "source": [
    "#### Create gif animation"
   ]
  },
  {
   "cell_type": "code",
   "execution_count": null,
   "id": "e51a0a18",
   "metadata": {},
   "outputs": [],
   "source": [
    "bz.PlotAnimeGif(scale_factor=10)"
   ]
  },
  {
   "cell_type": "markdown",
   "id": "9d04f4bf",
   "metadata": {},
   "source": [
    "#### define Eigen values and modeshapes"
   ]
  },
  {
   "cell_type": "code",
   "execution_count": null,
   "id": "3896776a",
   "metadata": {},
   "outputs": [],
   "source": [
    "# Define eigen data for first 10 eigen data\n",
    "ModeNumbers=[1,2]\n",
    "eigenData=[{node:[rnd.uniform(0,.05),rnd.uniform(0,.05),rnd.uniform(0,.05)] for node in nodeTagsList} for r in ModeNumbers]\n",
    "eigenValues=[200,300]\n",
    "\n",
    "  \n",
    "    \n",
    "bz.EigenData(ModeNumbers, eigenData, eigenValues)"
   ]
  },
  {
   "cell_type": "markdown",
   "id": "835aa8f7",
   "metadata": {},
   "source": [
    "#### Plot intended mode shape"
   ]
  },
  {
   "cell_type": "code",
   "execution_count": null,
   "id": "735ba0a6",
   "metadata": {},
   "outputs": [],
   "source": [
    "bz.PlotModeShape(plotmode=1,scale_factor=10,mode_number=1,onhover_message=True,  plot_legends=True,vertical_axis=2)"
   ]
  },
  {
   "cell_type": "markdown",
   "id": "ecdd6a8b",
   "metadata": {},
   "source": [
    "## Prof. M.Scott Model \n",
    "\n",
    "Lets check another model in the following address: https://github.com/mhscott/G2/blob/master/EXAMPLES/ziemian.m"
   ]
  },
  {
   "cell_type": "code",
   "execution_count": null,
   "id": "f00662c4",
   "metadata": {},
   "outputs": [],
   "source": [
    "XYZ={}\n",
    "XYZ[1] = [0, 0];\n",
    "XYZ[2] = [0, 6.1];\n",
    "XYZ[3] = [0, 6.1+4.57];\n",
    "XYZ[4] = [6.1, 0];\n",
    "XYZ[5] = [6.1, 6.1];\n",
    "XYZ[6] = [6.1, 6.1+4.57];\n",
    "XYZ[7] = [6.1+14.63, 0];\n",
    "XYZ[8] = [6.1+14.63, 6.1];\n",
    "XYZ[9] = [6.1+14.63, 6.1+4.57];\n",
    "\n",
    "ele={}\n",
    "ele[1]=[1, 2]\n",
    "ele[2]=[2, 3]\n",
    "ele[3]=[4, 5]\n",
    "ele[4]=[5, 6]\n",
    "ele[5]=[7, 8]\n",
    "ele[6]=[8, 9]\n",
    "ele[7]=[2, 5]\n",
    "ele[8]=[5, 8]\n",
    "ele[9]=[3, 6]\n",
    "ele[10]=[6, 9]\n",
    "\n",
    "bz.BaseData(nodeCoordDict=XYZ, eleNodesDict=ele)\n",
    "bz.PlotModel(plotmode=1,onhover_message=True,show_nodes_tag=True)"
   ]
  }
 ],
 "metadata": {
  "kernelspec": {
   "display_name": "Python 3 (ipykernel)",
   "language": "python",
   "name": "python3"
  },
  "language_info": {
   "codemirror_mode": {
    "name": "ipython",
    "version": 3
   },
   "file_extension": ".py",
   "mimetype": "text/x-python",
   "name": "python",
   "nbconvert_exporter": "python",
   "pygments_lexer": "ipython3",
   "version": "3.9.6"
  },
  "vp": {
   "vp_config_version": "1.0.0",
   "vp_menu_width": 273,
   "vp_note_display": false,
   "vp_note_width": 0,
   "vp_position": {
    "width": 278
   },
   "vp_section_display": false,
   "vp_signature": "VisualPython"
  }
 },
 "nbformat": 4,
 "nbformat_minor": 5
}
