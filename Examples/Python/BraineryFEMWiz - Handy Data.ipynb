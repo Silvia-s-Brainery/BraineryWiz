{
 "cells": [
  {
   "cell_type": "code",
   "execution_count": null,
   "id": "4f0ca7ad",
   "metadata": {},
   "outputs": [],
   "source": [
    "!pip show BraineryWiz\n",
    "import BraineryWiz as bz"
   ]
  },
  {
   "cell_type": "markdown",
   "id": "12976d99",
   "metadata": {},
   "source": [
    "## Handy Data"
   ]
  },
  {
   "cell_type": "code",
   "execution_count": null,
   "id": "e7462173",
   "metadata": {},
   "outputs": [],
   "source": [
    "# from brainerywiz.FEMWiz import BaseData, DispData\n",
    "import random as rnd\n",
    "\n",
    "#Define Data\n",
    "nodeTagsList=[1,2,3,4,5,6]\n",
    "nodeCoordDict={1:[-1,0,0], 2:[0,0,1], 3:[1,0,1], 4:[1,0,0], 5:[-1,2,0], 6:[1,2,0]}\n",
    "eleTagsList=[1,2,3,4,5]\n",
    "eleNodesDict={1:[1,2], 2:[2,3] , 3:[3,4], 4:[1,2,3,4], 5:[4,6,5,2,1]}\n",
    "\n",
    "#Define initial Data for package\n",
    "bz.BaseData(nodeTagsList, nodeCoordDict, eleTagsList, eleNodesDict)\n"
   ]
  },
  {
   "cell_type": "code",
   "execution_count": null,
   "id": "5146a408",
   "metadata": {},
   "outputs": [],
   "source": [
    "# from brainerywiz.PlotModel import PlotModel\n",
    "# PlotModel(show_nodes_tag=True,TCL_datafile='file.data')\n",
    "bz.PlotModel(plotmode=1,onhover_message=True,show_nodes_tag=True,plot_fibers=True,show_elemens_tag=False,quivers_size=None)"
   ]
  },
  {
   "cell_type": "code",
   "execution_count": null,
   "id": "b6a577cb",
   "metadata": {},
   "outputs": [],
   "source": [
    "import random as rnd\n",
    "\n",
    "bz.DispData({node:[rnd.uniform(0,1),rnd.uniform(0,1),rnd.uniform(0,1)] for node in nodeTagsList})\n",
    "\n",
    "\n",
    "bz.PlotDefo(plotmode=1,scale_factor=2,onhover_message=True,show_nodes_tag=True)"
   ]
  },
  {
   "cell_type": "code",
   "execution_count": null,
   "id": "3d4b1b73",
   "metadata": {},
   "outputs": [],
   "source": [
    "bz.RealTimeObj(plotmode=7,onhover_message=True);\n"
   ]
  },
  {
   "cell_type": "code",
   "execution_count": null,
   "id": "3a7b353b",
   "metadata": {},
   "outputs": [],
   "source": [
    "for i in range(10):\n",
    "\n",
    "    #Defining data for FEM Viewer\n",
    "    bz.DispData({node:[rnd.uniform(0,.05),rnd.uniform(0,.05),rnd.uniform(0,.05)] for node in nodeTagsList})\n",
    "    \n",
    "    #Update Data\n",
    "    bz.RealTimeUpdate(scale_factor=10, title=f'BraineryWiz Deformation step {i}')"
   ]
  },
  {
   "cell_type": "code",
   "execution_count": null,
   "id": "f32c71f7",
   "metadata": {},
   "outputs": [],
   "source": [
    "bz.RecorderReset()\n",
    "for i in range(300):\n",
    "    \n",
    "    \n",
    "    #Defining data for FEM Viewer\n",
    "    bz.DispData({node:[rnd.uniform(0,.05),rnd.uniform(0,.05),rnd.uniform(0,.05)] for node in nodeTagsList})\n",
    "    \n",
    "    bz.Record()"
   ]
  },
  {
   "cell_type": "code",
   "execution_count": null,
   "id": "efd48698",
   "metadata": {},
   "outputs": [],
   "source": [
    "bz.PlotAnime(plotmode=1,dt=0.01,scale_factor=10)"
   ]
  },
  {
   "cell_type": "code",
   "execution_count": null,
   "id": "e53ac8c1",
   "metadata": {},
   "outputs": [],
   "source": [
    "bz.RecorderReset()\n",
    "for i in range(10):\n",
    "    \n",
    "    #Defining data for FEM Viewer\n",
    "    bz.DispData({node:[rnd.uniform(0,.05),rnd.uniform(0,.05),rnd.uniform(0,.05)] for node in nodeTagsList})\n",
    "    \n",
    "    bz.Record()"
   ]
  },
  {
   "cell_type": "code",
   "execution_count": null,
   "id": "e51a0a18",
   "metadata": {},
   "outputs": [],
   "source": [
    "bz.PlotAnimeGif(scale_factor=10)"
   ]
  },
  {
   "cell_type": "code",
   "execution_count": null,
   "id": "3896776a",
   "metadata": {},
   "outputs": [],
   "source": [
    "# Define eigen data for first 10 eigen data\n",
    "ModeNumbers=[1,2]\n",
    "eigenData=[{node:[rnd.uniform(0,.05),rnd.uniform(0,.05),rnd.uniform(0,.05)] for node in nodeTagsList} for r in ModeNumbers]\n",
    "eigenValues=[200,300]\n",
    "\n",
    "  \n",
    "    \n",
    "bz.EigenData(ModeNumbers, eigenData, eigenValues)"
   ]
  },
  {
   "cell_type": "code",
   "execution_count": null,
   "id": "735ba0a6",
   "metadata": {},
   "outputs": [],
   "source": [
    "bz.PlotModeShape(plotmode=1,scale_factor=10,mode_number=1,onhover_message=True)"
   ]
  }
 ],
 "metadata": {
  "kernelspec": {
   "display_name": "Python 3 (ipykernel)",
   "language": "python",
   "name": "python3"
  },
  "language_info": {
   "codemirror_mode": {
    "name": "ipython",
    "version": 3
   },
   "file_extension": ".py",
   "mimetype": "text/x-python",
   "name": "python",
   "nbconvert_exporter": "python",
   "pygments_lexer": "ipython3",
   "version": "3.9.13"
  },
  "vp": {
   "vp_config_version": "1.0.0",
   "vp_menu_width": 273,
   "vp_note_display": false,
   "vp_note_width": 0,
   "vp_position": {
    "width": 278
   },
   "vp_section_display": false,
   "vp_signature": "VisualPython"
  }
 },
 "nbformat": 4,
 "nbformat_minor": 5
}
