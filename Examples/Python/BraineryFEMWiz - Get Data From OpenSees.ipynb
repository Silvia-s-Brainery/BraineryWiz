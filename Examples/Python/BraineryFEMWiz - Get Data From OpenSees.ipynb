{
 "cells": [
  {
   "cell_type": "markdown",
   "id": "bd68617d",
   "metadata": {},
   "source": [
    "# Brainery FEMWiz\n",
    "\n",
    "A package to Visualuze Finite element Models"
   ]
  },
  {
   "cell_type": "code",
   "execution_count": null,
   "id": "4f0ca7ad",
   "metadata": {},
   "outputs": [],
   "source": [
    "!pip show BraineryWiz "
   ]
  },
  {
   "cell_type": "code",
   "execution_count": null,
   "id": "2ae30f25",
   "metadata": {
    "scrolled": true
   },
   "outputs": [],
   "source": [
    "import openseespy.opensees as ops\n",
    "# %matplotlib notebook\n",
    "import BraineryWiz as bz\n",
    "\n",
    "#Load a Model:\n",
    "from Models.TDmodel import * \n"
   ]
  },
  {
   "cell_type": "markdown",
   "id": "d934ffbe",
   "metadata": {},
   "source": [
    "# Get Data From OpenSees\n",
    "\n",
    "In this example we use data created by OpenSees to feed FEMWiz and plot the results However the package works completely for OpenSees models but here we just want to check the FEMWiz system and we used OpenSees to provide data to feed the system"
   ]
  },
  {
   "cell_type": "markdown",
   "id": "87c796d7",
   "metadata": {},
   "source": [
    "#### Define initial data and add them to the package"
   ]
  },
  {
   "cell_type": "code",
   "execution_count": null,
   "id": "0ee30fd6",
   "metadata": {},
   "outputs": [],
   "source": [
    "nodeTagsList=ops.getNodeTags()\n",
    "eleTagsList=ops.getEleTags()\n",
    "# eleTagsList=[1,2,3,4,5,10,100,20,200,40,203,204,101,104,205,11,12,13,500,600,700,1100,1200]\n",
    "nodeCoordDict={node:ops.nodeCoord(node) for node in nodeTagsList}\n",
    "eleNodesDict={eletag:ops.eleNodes(eletag) for eletag in eleTagsList}\n",
    "\n",
    "#Load Data\n",
    "bz.BaseData(nodeCoordDict=nodeCoordDict, eleNodesDict=eleNodesDict);"
   ]
  },
  {
   "cell_type": "markdown",
   "id": "e710cff4",
   "metadata": {},
   "source": [
    "### PlotModel command to plot the defined model (plotmode=1 is proper for my JupyterNoteBook)"
   ]
  },
  {
   "cell_type": "code",
   "execution_count": null,
   "id": "b1a2a14f",
   "metadata": {},
   "outputs": [],
   "source": [
    "#Plot Model\n",
    "bz.PlotModel(plotmode=1,onhover_message=True,show_nodes_tag=False,plot_fibers=True,show_elemens_tag=False,quivers_size=None)\n"
   ]
  },
  {
   "cell_type": "code",
   "execution_count": null,
   "id": "d5f36bf9",
   "metadata": {},
   "outputs": [],
   "source": [
    "ops.analyze(100,0.01)\n"
   ]
  },
  {
   "cell_type": "markdown",
   "id": "96faca6e",
   "metadata": {},
   "source": [
    "#### Define nodes displacement data and plot the deformation shape"
   ]
  },
  {
   "cell_type": "code",
   "execution_count": null,
   "id": "5b3daa34",
   "metadata": {},
   "outputs": [],
   "source": [
    "#Load displacement Data\n",
    "bz.DispData({node:ops.nodeDisp(node) for node in nodeCoordDict.keys()})\n",
    "\n",
    "#Plot Deformation\n",
    "bz.PlotDefo(plotmode=1,scale_factor=300,onhover_message=True,)"
   ]
  },
  {
   "cell_type": "markdown",
   "id": "6f2a50f3",
   "metadata": {},
   "source": [
    "#### Use RealTime capbility to create Canvas and plot it in each intended moment (Just for Jupyter NoteBook)"
   ]
  },
  {
   "cell_type": "code",
   "execution_count": null,
   "id": "aaa1b916",
   "metadata": {},
   "outputs": [],
   "source": [
    "#Create a Canvas (Only for Jupyter)\n",
    "bz.RealTimeObj(plotmode=7,onhover_message=True);\n"
   ]
  },
  {
   "cell_type": "code",
   "execution_count": null,
   "id": "608d170a",
   "metadata": {},
   "outputs": [],
   "source": [
    "[ops.analyze(1,0.01) for i in range(100)]\n",
    "\n",
    "for i in range(100):\n",
    "    ops.analyze(1,0.01)\n",
    "\n",
    "    #Defining data for FEM Viewer\n",
    "    bz.DispData({node:ops.nodeDisp(node) for node in nodeTagsList})\n",
    "\n",
    "    #Update Canvas\n",
    "    bz.RealTimeUpdate(scale_factor=10, title=f'BraineryWiz Deformation step {i}')"
   ]
  },
  {
   "cell_type": "markdown",
   "id": "fa710c0f",
   "metadata": {},
   "source": [
    "#### Use Record command to record deformations to use them for creating animations or gif files"
   ]
  },
  {
   "cell_type": "code",
   "execution_count": null,
   "id": "90b1e65f",
   "metadata": {},
   "outputs": [],
   "source": [
    "#Record Data for Plot Animation\n",
    "bz.RecorderReset() #Reset Recorder\n",
    "for i in range(300):\n",
    "    \n",
    "    \n",
    "    ops.analyze(1,0.01) \n",
    "    \n",
    "    #Defining data for FEM Viewer\n",
    "    bz.DispData({node:ops.nodeDisp(node) for node in nodeTagsList})\n",
    "    \n",
    "    bz.Record() #Record Data\n",
    "    "
   ]
  },
  {
   "cell_type": "markdown",
   "id": "246f4911",
   "metadata": {},
   "source": [
    "#### create animation from recorded deformations"
   ]
  },
  {
   "cell_type": "code",
   "execution_count": null,
   "id": "46d0509b",
   "metadata": {},
   "outputs": [],
   "source": [
    "#Plot Animation\n",
    "bz.PlotAnime(plotmode=1,dt=0.01,scale_factor=10)"
   ]
  },
  {
   "cell_type": "markdown",
   "id": "558adf35",
   "metadata": {},
   "source": [
    "#### record deformations to create a gif animation"
   ]
  },
  {
   "cell_type": "code",
   "execution_count": null,
   "id": "140cfa3e",
   "metadata": {},
   "outputs": [],
   "source": [
    "#Record Data for create a gif Animation\n",
    "bz.RecorderReset()\n",
    "for i in range(10):\n",
    "    \n",
    "    \n",
    "    ops.analyze(1,0.01) \n",
    "    \n",
    "    #Defining data for FEM Viewer\n",
    "    bz.DispData({node:ops.nodeDisp(node) for node in nodeTagsList})\n",
    "    \n",
    "    bz.Record()"
   ]
  },
  {
   "cell_type": "markdown",
   "id": "1b7fb8a8",
   "metadata": {},
   "source": [
    "#### Create gif animation"
   ]
  },
  {
   "cell_type": "code",
   "execution_count": null,
   "id": "e38b602d",
   "metadata": {},
   "outputs": [],
   "source": [
    "bz.PlotAnimeGif(scale_factor=10)"
   ]
  },
  {
   "cell_type": "markdown",
   "id": "bf44b75b",
   "metadata": {},
   "source": [
    "#### define Eigen values and modeshapes"
   ]
  },
  {
   "cell_type": "code",
   "execution_count": null,
   "id": "70273bac",
   "metadata": {},
   "outputs": [],
   "source": [
    "\n",
    "# Define eigen data for first 10 eigen data\n",
    "ModeNumbers=[]\n",
    "eigenData=[]\n",
    "eigenValues=[]\n",
    "\n",
    "for modenum in range(1,11):\n",
    "    ModeNumbers.append(modenum)\n",
    "    \n",
    "    #Run opensees eigen to calculate eigen value and eigen vector\n",
    "    eigenValues.append(ops.eigen(modenum)[-1])\n",
    "    \n",
    "    #get Opensees Eigen vector\n",
    "    eigenData.append({node:ops.nodeEigenvector(node, modenum) for node in nodeTagsList})\n",
    "\n",
    "#Define Eigen Data\n",
    "bz.EigenData(ModeNumbers, eigenData, eigenValues)"
   ]
  },
  {
   "cell_type": "markdown",
   "id": "c1cdb73f",
   "metadata": {},
   "source": [
    "#### Plot intended mode shape"
   ]
  },
  {
   "cell_type": "code",
   "execution_count": null,
   "id": "ad625e0b",
   "metadata": {},
   "outputs": [],
   "source": [
    "#Plot Eigen Shape\n",
    "bz.PlotModeShape(plotmode=1,scale_factor=1000,mode_number=10,onhover_message=True)"
   ]
  }
 ],
 "metadata": {
  "kernelspec": {
   "display_name": "Python 3 (ipykernel)",
   "language": "python",
   "name": "python3"
  },
  "language_info": {
   "codemirror_mode": {
    "name": "ipython",
    "version": 3
   },
   "file_extension": ".py",
   "mimetype": "text/x-python",
   "name": "python",
   "nbconvert_exporter": "python",
   "pygments_lexer": "ipython3",
   "version": "3.9.13"
  },
  "vp": {
   "vp_config_version": "1.0.0",
   "vp_menu_width": 273,
   "vp_note_display": false,
   "vp_note_width": 0,
   "vp_position": {
    "width": 278
   },
   "vp_section_display": false,
   "vp_signature": "VisualPython"
  }
 },
 "nbformat": 4,
 "nbformat_minor": 5
}
