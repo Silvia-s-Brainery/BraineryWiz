{
 "cells": [
  {
   "cell_type": "markdown",
   "id": "ad96d4d1",
   "metadata": {},
   "source": [
    "### To Run This NoteBook, Copy it and its beside Model into a folder and the Run it (Because it needs Models.TDmodel) to draw it"
   ]
  },
  {
   "cell_type": "code",
   "execution_count": null,
   "id": "4f0ca7ad",
   "metadata": {},
   "outputs": [],
   "source": [
    "!pip show BraineryWiz "
   ]
  },
  {
   "cell_type": "code",
   "execution_count": null,
   "id": "2ae30f25",
   "metadata": {
    "scrolled": true
   },
   "outputs": [],
   "source": [
    "import random as rnd\n",
    "import openseespy.opensees as ops\n",
    "import BraineryWiz as bz\n",
    "\n",
    "#Load a Model:\n",
    "from Models.TDmodel import * "
   ]
  },
  {
   "cell_type": "markdown",
   "id": "b2b43158",
   "metadata": {},
   "source": [
    "#### PlotModel command (plotmode=1 is proper for my JupyterNoteBook)"
   ]
  },
  {
   "cell_type": "code",
   "execution_count": null,
   "id": "1fdbb7ff",
   "metadata": {},
   "outputs": [],
   "source": [
    "#Plot Model\n",
    "bz.PlotModel(plotmode=1,onhover_message=False,show_nodes_tag=False,plot_fibers=False,show_elemens_tag=False,quivers_size=None, plot_integration_points=False)"
   ]
  },
  {
   "cell_type": "markdown",
   "id": "44094f41",
   "metadata": {},
   "source": [
    "#### After runing analysis using PlotDefo command the deformation shape of the structure can be seen"
   ]
  },
  {
   "cell_type": "code",
   "execution_count": null,
   "id": "1db7a98f",
   "metadata": {},
   "outputs": [],
   "source": [
    "#Plot Deformation\n",
    "for i in range(100):\n",
    "    ops.analyze(1,0.01)\n",
    "print('analyse has finished')\n",
    "bz.PlotDefo(plotmode=1,scale_factor=300,onhover_message=True)"
   ]
  },
  {
   "cell_type": "markdown",
   "id": "6ffb7c2d",
   "metadata": {},
   "source": [
    "#### RealTime is a proper capability for watching the deformation of the structure at each moment that we want\n",
    "* It is currently available just in Jupyter NoteBook\n",
    "* First you should create your Canvas using RealTimeObj\n",
    "* By calling RealTimeUpdate your figure will be update at that moment"
   ]
  },
  {
   "cell_type": "code",
   "execution_count": null,
   "id": "a5c47e84",
   "metadata": {},
   "outputs": [],
   "source": [
    "# Use Real time plotting feature (ONLY FOR JUPYTER NOTEBOOK)\n",
    "bz.RealTimeObj(onhover_message=True); #Create Canvas"
   ]
  },
  {
   "cell_type": "code",
   "execution_count": null,
   "id": "4ffc46db",
   "metadata": {},
   "outputs": [],
   "source": [
    "\n",
    "[ops.analyze(1,0.01) for i in range(300)]\n",
    "for i in range(10):\n",
    "\n",
    "    ops.analyze(1,0.01) \n",
    "\n",
    "\n",
    "    bz.RealTimeUpdate(scale_factor=5,title=f'Step={i}',auto_zoom=True,); #Update Canvas"
   ]
  },
  {
   "cell_type": "markdown",
   "id": "0100aaba",
   "metadata": {},
   "source": [
    "#### Using Record command you can record the deformation shape and you can reset it by RecorderReset command"
   ]
  },
  {
   "cell_type": "code",
   "execution_count": null,
   "id": "9352ab2f",
   "metadata": {
    "scrolled": true
   },
   "outputs": [],
   "source": [
    "#Create Animation\n",
    "bz.RecorderReset() #Reset Recorder\n",
    "for i in range(10):\n",
    "    \n",
    "    \n",
    "    ops.analyze(2,0.01) \n",
    "    \n",
    "    bz.Record()    #Record Deformation\n",
    "    "
   ]
  },
  {
   "cell_type": "markdown",
   "id": "3e9c83dd",
   "metadata": {},
   "source": [
    "#### Recorded deformations can be watch using PlotAnime command"
   ]
  },
  {
   "cell_type": "code",
   "execution_count": null,
   "id": "cbae913f",
   "metadata": {
    "scrolled": false
   },
   "outputs": [],
   "source": [
    "#Plot Animation\n",
    "bz.PlotAnime(plotmode=1,dt=0.01,scale_factor=1)"
   ]
  },
  {
   "cell_type": "markdown",
   "id": "34b049a9",
   "metadata": {},
   "source": [
    "#### Recorded deformations can be move to gif file using PlotAnimeGif command"
   ]
  },
  {
   "cell_type": "code",
   "execution_count": null,
   "id": "3eb9f802",
   "metadata": {},
   "outputs": [],
   "source": [
    "#Create animation as a gif file\n",
    "bz.PlotAnimeGif(scale_factor=10)"
   ]
  },
  {
   "cell_type": "markdown",
   "id": "6ef082d6",
   "metadata": {},
   "source": [
    "#### Using PlotModeShape you can watch the mode shape of your model if there is no problem for Eigen value analysis for your model"
   ]
  },
  {
   "cell_type": "code",
   "execution_count": null,
   "id": "7caf46ba",
   "metadata": {},
   "outputs": [],
   "source": [
    "#Plot Mode Shapes\n",
    "bz.PlotModeShape(plotmode=1,scale_factor=1000,mode_number=1,onhover_message=True)\n",
    "\n"
   ]
  }
 ],
 "metadata": {
  "kernelspec": {
   "display_name": "Python 3 (ipykernel)",
   "language": "python",
   "name": "python3"
  },
  "language_info": {
   "codemirror_mode": {
    "name": "ipython",
    "version": 3
   },
   "file_extension": ".py",
   "mimetype": "text/x-python",
   "name": "python",
   "nbconvert_exporter": "python",
   "pygments_lexer": "ipython3",
   "version": "3.9.13"
  },
  "vp": {
   "vp_config_version": "1.0.0",
   "vp_menu_width": 273,
   "vp_note_display": false,
   "vp_note_width": 0,
   "vp_position": {
    "width": 278
   },
   "vp_section_display": false,
   "vp_signature": "VisualPython"
  }
 },
 "nbformat": 4,
 "nbformat_minor": 5
}
